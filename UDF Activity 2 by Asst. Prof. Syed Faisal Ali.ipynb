{
 "cells": [
  {
   "cell_type": "markdown",
   "metadata": {},
   "source": [
    "# Python User Define Function Practice Activity - 2 "
   ]
  },
  {
   "cell_type": "markdown",
   "metadata": {},
   "source": [
    "Asst. Prof. Syed Faisal Ali              $\\;\\;\\;\\;\\;\\;$              Programming Fundamentals - FALL 2019 $\\;\\;\\;\\;\\;\\;$ Software Engineering                     $\\;\\;\\;\\;\\;\\;$                   Dated: 27 Nov 2019"
   ]
  },
  {
   "cell_type": "markdown",
   "metadata": {},
   "source": [
    "Question 1: Create a function to find the following:\n",
    "If the base of triangle is 3 cm long and its equilateral triangle and the radius of circle is 1.5 cm then find the area of triangle shaded. \n"
   ]
  },
  {
   "cell_type": "markdown",
   "metadata": {},
   "source": [
    "![proj](q1.jpg)"
   ]
  },
  {
   "cell_type": "code",
   "execution_count": 12,
   "metadata": {},
   "outputs": [
    {
     "name": "stdout",
     "output_type": "stream",
     "text": [
      "Area of Shaded Triangle: 2.7190170719338007 cm\n"
     ]
    }
   ],
   "source": [
    "from math import sqrt, pi\n",
    "def area_shaded(a,r):\n",
    "    area_tri = (sqrt(3)/4)*(a**2)\n",
    "    area_hex = 6*(area_tri)\n",
    "    area_cir = pi*(r**2)\n",
    "    f_area = (area_hex)-(area_cir)\n",
    "    final = (f_area)/6\n",
    "    return final\n",
    "print('Area of Shaded Triangle:',area_shaded(3,1.5),'cm')"
   ]
  },
  {
   "cell_type": "markdown",
   "metadata": {},
   "source": [
    "Question 2: Create a function which can read a dictionary of your family members such as 5 members. \n",
    "1 Abbu, 1 Ammi, 2 Brothers 1 Sister. Now feed this data in dictionary in terms of name and relations.\n",
    "The UDF will ask findrelation() in this you will enter Brother it will return the names of two brothers you have inserted. In case if the relation is not found it will return “Sorry the relation doesn’t exist in your family.” \n"
   ]
  },
  {
   "cell_type": "code",
   "execution_count": 10,
   "metadata": {},
   "outputs": [
    {
     "name": "stdout",
     "output_type": "stream",
     "text": [
      "Shariq, Moazzam\n"
     ]
    }
   ],
   "source": [
    "def findrelation(key):\n",
    "    family = {'Abbu':'Walid','Ammi':'Ammi','Brother':'Shariq, Moazzam','Sister':'Ayesha'}\n",
    "    if key in family:\n",
    "        res = family[key]\n",
    "        return res\n",
    "    else:\n",
    "        return '\"Sorry the relation doesn’t exist in your family.\"'\n",
    "print(findrelation('Brother'))"
   ]
  },
  {
   "cell_type": "markdown",
   "metadata": {},
   "source": [
    "Question 3: Create a function to find the following:\n",
    "If the base of triangle is 5 cm long and its equilateral triangle and the radius of circle is 2.25 cm then find the area of triangle shaded. \n"
   ]
  },
  {
   "cell_type": "markdown",
   "metadata": {},
   "source": [
    "![proj](q3.jpg)"
   ]
  },
  {
   "cell_type": "code",
   "execution_count": 13,
   "metadata": {},
   "outputs": [
    {
     "name": "stdout",
     "output_type": "stream",
     "text": [
      "Area of Shaded Triangle: 8.174598745839097 cm\n"
     ]
    }
   ],
   "source": [
    "from math import sqrt, pi\n",
    "def area_shaded(a,r):\n",
    "    area_tri = (sqrt(3)/4)*(a**2)\n",
    "    area_hex = 6*(area_tri)\n",
    "    area_cir = pi*(r**2)\n",
    "    f_area = (area_hex)-(area_cir)\n",
    "    final = (f_area)/6\n",
    "    return final\n",
    "print('Area of Shaded Triangle:',area_shaded(5,2.25),'cm')"
   ]
  },
  {
   "cell_type": "markdown",
   "metadata": {},
   "source": [
    "Question 4:\n",
    "Create a function that takes a list of random numbers from users and add only those which are even. If all the numbers are odd it will return sorry no even number found.\n"
   ]
  },
  {
   "cell_type": "code",
   "execution_count": 14,
   "metadata": {},
   "outputs": [
    {
     "name": "stdout",
     "output_type": "stream",
     "text": [
      "sum of even no: 6\n",
      "\n"
     ]
    }
   ],
   "source": [
    "def sum_even(lst):\n",
    "    s = 0\n",
    "    for i in lst:\n",
    "        if i%2 == 0:\n",
    "            s += i\n",
    "    if s != 0:\n",
    "        print(\"sum of even no:\",s)\n",
    "    if s == 0:\n",
    "        print(\"No even number found!\")\n",
    "    return \"\"\n",
    "\n",
    "print(sum_even([1,2,3,4,5,7,9]))"
   ]
  },
  {
   "cell_type": "markdown",
   "metadata": {},
   "source": [
    "Question 5:\n",
    "Write a function which can take a list of numbers and it will return sorted list.\n"
   ]
  },
  {
   "cell_type": "code",
   "execution_count": 16,
   "metadata": {},
   "outputs": [
    {
     "name": "stdout",
     "output_type": "stream",
     "text": [
      "Sorted List: [2, 3, 4, 5, 6, 7, 9, 10]\n"
     ]
    }
   ],
   "source": [
    "def sort_lst(lst):\n",
    "    return sorted(lst)\n",
    "print (\"Sorted List:\",(sort_lst([9,2,5,4,7,3,6,10])))"
   ]
  },
  {
   "cell_type": "markdown",
   "metadata": {},
   "source": [
    "Question 6:\n",
    "Write a function that will take the radius and return the perimeter and area of circle with 5% increment.\n"
   ]
  },
  {
   "cell_type": "code",
   "execution_count": 19,
   "metadata": {},
   "outputs": [
    {
     "name": "stdout",
     "output_type": "stream",
     "text": [
      "('Area :', 118.75220230569418, 'unit', 'Perimeter:', 37.69911184307752, 'unit')\n"
     ]
    }
   ],
   "source": [
    "from math import pi\n",
    "def area_cir(rad):\n",
    "    a = pi*(rad**2)\n",
    "    ai = a+(a*0.05)\n",
    "    p = 2*pi*rad\n",
    "    return \"Area :\",ai,\"unit\",\"Perimeter:\",p,\"unit\"\n",
    "print(area_cir(6))"
   ]
  },
  {
   "cell_type": "markdown",
   "metadata": {},
   "source": [
    "Question 7:\n",
    "Write a function that will take the strings as argument and return number of vowels and consonants.\n"
   ]
  },
  {
   "cell_type": "code",
   "execution_count": 25,
   "metadata": {},
   "outputs": [
    {
     "name": "stdout",
     "output_type": "stream",
     "text": [
      "('Numbers of vowels:', 2, 'Numbers of consonants:', 4)\n"
     ]
    }
   ],
   "source": [
    "def num_vc(st):\n",
    "    st = st.casefold()\n",
    "    v_num = 0\n",
    "    c_num = 0\n",
    "    for i in st:\n",
    "        if i in \"aeiou\":\n",
    "            v_num += 1\n",
    "        else:\n",
    "            c_num += 1\n",
    "    return \"Numbers of vowels:\",v_num,\"Numbers of consonants:\",c_num\n",
    "\n",
    "print(num_vc('Sheikh'))    "
   ]
  },
  {
   "cell_type": "markdown",
   "metadata": {},
   "source": [
    "Question 8:\n",
    "Write a function that will take length and breadth for a rectangle and return perimeter and area of rectangle with 8% increment.\n"
   ]
  },
  {
   "cell_type": "code",
   "execution_count": 28,
   "metadata": {},
   "outputs": [
    {
     "name": "stdout",
     "output_type": "stream",
     "text": [
      "('Area of Rectangle:', 35, 'unit', 'Perimeter:', 24, 'unit')\n"
     ]
    }
   ],
   "source": [
    "from math import pi\n",
    "def rect_ap(l,b):\n",
    "    ao = (l*b)\n",
    "    area = ao + (ao*0.08)\n",
    "    return \"Area of Rectangle:\",ao,\"unit\",\"Perimeter:\",2*(l+b),\"unit\"\n",
    "print(rect_ap(5,7))  "
   ]
  },
  {
   "cell_type": "markdown",
   "metadata": {},
   "source": [
    "Question 9:\n",
    "Write a function that can take the numbers in strings. From string find which number is even and which one is odd. Save them in two different lists and generate the result.\n"
   ]
  },
  {
   "cell_type": "code",
   "execution_count": 36,
   "metadata": {},
   "outputs": [
    {
     "name": "stdout",
     "output_type": "stream",
     "text": [
      "('List of even:', ['2', '4', '6', '8'], 'List of odd:', ['1', '3', '5', '7', '9'])\n"
     ]
    }
   ],
   "source": [
    "def even_odd(st):\n",
    "    even_lst = []\n",
    "    odd_lst = []\n",
    "    for i in st:\n",
    "        if int(i)%2 == 0:\n",
    "            even_lst.append(i)\n",
    "        else:\n",
    "            odd_lst.append(i)\n",
    "    return \"List of even:\",even_lst,\"List of odd:\",odd_lst\n",
    "print(even_odd(\"123456789\"))"
   ]
  },
  {
   "cell_type": "markdown",
   "metadata": {},
   "source": [
    "Question 10:\n",
    "Write a function which will take the string from the user and return how many alphabets have been used in it and which alphabets are missing.\n"
   ]
  },
  {
   "cell_type": "code",
   "execution_count": 37,
   "metadata": {},
   "outputs": [
    {
     "name": "stdout",
     "output_type": "stream",
     "text": [
      "('Numbers of alphabets:', 5, 'Missing:', 'abcdfgjlmnopqrtuvwxyz')\n"
     ]
    }
   ],
   "source": [
    "def alph(st):\n",
    "    st = st.casefold()\n",
    "    n = 0\n",
    "    letters = 'abcdefghijklmnopqrstuvwxyz'\n",
    "    for i in st:\n",
    "        if i in letters:\n",
    "            letters = letters.replace(i,\"\")\n",
    "            n += 1\n",
    "    return \"Numbers of alphabets:\",n,\"Missing:\",letters\n",
    "print(alph('sheikh'))"
   ]
  },
  {
   "cell_type": "markdown",
   "metadata": {},
   "source": [
    "Question 11:\n",
    "Write a function that will take verbs in words and return a list of verbs with continuous tense by adding (ing) at the end of each verb.\n"
   ]
  },
  {
   "cell_type": "code",
   "execution_count": 43,
   "metadata": {},
   "outputs": [
    {
     "name": "stdout",
     "output_type": "stream",
     "text": [
      "('Verbs:', ['ride', 'riding'])\n"
     ]
    }
   ],
   "source": [
    "def verbs_cont(st):\n",
    "    v_lst = []\n",
    "    v_lst.append(st)\n",
    "    if st[-1] == 'e':\n",
    "        st = st.replace(st[-1],\"\")\n",
    "        verb = st+\"ing\"\n",
    "        v_lst.append(verb)\n",
    "    else:\n",
    "        verb = st+\"ing\"\n",
    "        v_lst.append(verb)\n",
    "    return \"Verbs:\",v_lst\n",
    "print(verbs_cont('ride'))"
   ]
  },
  {
   "cell_type": "markdown",
   "metadata": {},
   "source": [
    "Question 12:\n",
    "Make a function which can take two radius of circles and find the areas of it and subtract smaller one from larger one and tell the remaining area of circle.\n"
   ]
  },
  {
   "cell_type": "code",
   "execution_count": 50,
   "metadata": {},
   "outputs": [
    {
     "name": "stdout",
     "output_type": "stream",
     "text": [
      "75.39822368615503 unit\n"
     ]
    }
   ],
   "source": [
    "from math import pi\n",
    "def cir_two(r1,r2):\n",
    "    a1 = pi*(r1**2)\n",
    "    a2 = pi*(r2**2)\n",
    "    if a1 > a2:\n",
    "        area = (a2 - a1)\n",
    "    else:\n",
    "        area = (a1 - a1)\n",
    "    return abs(area)\n",
    "print(cir_two(5,1),\"unit\")"
   ]
  },
  {
   "cell_type": "markdown",
   "metadata": {},
   "source": [
    "Question 13:\n",
    "Write a function that will take a string and calculate number of Upper case letters and lower case letters.\n"
   ]
  },
  {
   "cell_type": "code",
   "execution_count": 56,
   "metadata": {},
   "outputs": [
    {
     "name": "stdout",
     "output_type": "stream",
     "text": [
      "Number of Uppercase in string: 3 \n",
      "Number of Uppercase in string: 3\n",
      "\n"
     ]
    }
   ],
   "source": [
    "def Num_uplo(st):\n",
    "    num_upper = 0\n",
    "    num_lower = 0\n",
    "    upper = 'ABCDEFGHIJKLMNOPQRSTUVWXYZ'\n",
    "    lower = 'abcdefghijklmnopqrstuvwxyz'\n",
    "    for i in st:\n",
    "        if i in upper:\n",
    "            num_upper = num_upper+1\n",
    "        if i in lower:\n",
    "            num_lower = num_lower+1\n",
    "    print(\"Number of Uppercase in string:\",num_lower,\"\\nNumber of Uppercase in string:\",num_upper)\n",
    "    return \"\"\n",
    "print(Num_uplo(\"ShEiKh\"))   "
   ]
  },
  {
   "cell_type": "markdown",
   "metadata": {},
   "source": [
    "Question 14:\n",
    "Write a function which will take length and breadth of two rectangles. Subtract the smaller rectangle from the larger rectangle and return the area left behind.\n"
   ]
  },
  {
   "cell_type": "code",
   "execution_count": 58,
   "metadata": {},
   "outputs": [
    {
     "name": "stdout",
     "output_type": "stream",
     "text": [
      "80 unit\n"
     ]
    }
   ],
   "source": [
    "def rect_two(l1,b1,l2,b2):\n",
    "    a1 = l1*b1\n",
    "    a2 = l2*b2\n",
    "    if a1 > a2:\n",
    "        area = (a2-a1)\n",
    "    else:\n",
    "        area = (a1-a2)\n",
    "    return abs(area)\n",
    "\n",
    "print(rect_two(2,5,6,15),\"unit\")"
   ]
  },
  {
   "cell_type": "markdown",
   "metadata": {},
   "source": [
    "Question 15:\n",
    "Create a function that can add the fractions in series such as 1 to 8 = 1/8+1/7+1/6+1/5 …… ½ and return the result in fraction not in decimal.\n"
   ]
  },
  {
   "cell_type": "code",
   "execution_count": 61,
   "metadata": {},
   "outputs": [
    {
     "name": "stdout",
     "output_type": "stream",
     "text": [
      "Answer: 481/280\n"
     ]
    }
   ],
   "source": [
    "from fractions import Fraction\n",
    "def frac(i,f):\n",
    "    fr = 0\n",
    "    for num in range(i,f+1):\n",
    "        fr = fr + Fraction(1,num)\n",
    "    return fr\n",
    "print(\"Answer:\",frac(2,8))"
   ]
  },
  {
   "cell_type": "markdown",
   "metadata": {},
   "source": [
    "Question 16:\n",
    "Write a function which will take height and base for a triangle and \n"
   ]
  },
  {
   "cell_type": "code",
   "execution_count": null,
   "metadata": {},
   "outputs": [],
   "source": [
    "#Cannot Understand Question."
   ]
  },
  {
   "cell_type": "markdown",
   "metadata": {},
   "source": [
    "Question 17:\n",
    "Write a function which will take a list of fruits names. The function will return how many alphabets are repetitive in the names of fruits and how many are unique letters.\n"
   ]
  },
  {
   "cell_type": "code",
   "execution_count": 64,
   "metadata": {},
   "outputs": [
    {
     "name": "stdout",
     "output_type": "stream",
     "text": [
      "unique: 1\n",
      "Total Repeat letters: 2\n",
      "\n"
     ]
    }
   ],
   "source": [
    "def repeat(st):\n",
    "    w = 0\n",
    "    v = 0\n",
    "    le = len(st)\n",
    "    for i in st:\n",
    "        m = st.count(i)\n",
    "        l = st.replace(i,\"\")\n",
    "        if m>1:\n",
    "            v = v+m\n",
    "            w = w+1\n",
    "    now = le-v\n",
    "    print(\"unique:\",now)\n",
    "    print(\"Total Repeat letters:\",w)\n",
    "    return \"\"\n",
    "print(repeat(\"apple\"))    "
   ]
  },
  {
   "cell_type": "markdown",
   "metadata": {},
   "source": [
    "Question 18:\n",
    "Write a function that can take square length and radius of circle. Find the area of both and subtract the smallest shape from largest one and return the remaining shape area.\n"
   ]
  },
  {
   "cell_type": "code",
   "execution_count": 59,
   "metadata": {},
   "outputs": [
    {
     "name": "stdout",
     "output_type": "stream",
     "text": [
      "53.53981633974483 unit\n"
     ]
    }
   ],
   "source": [
    "from math import pi\n",
    "def sq_cir(l,r):\n",
    "    area_sq = (l*l)\n",
    "    area_cir = pi*(r**2)\n",
    "    if area_sq > area_cir:\n",
    "        area = (area_cir-area_sq)\n",
    "    else:\n",
    "        area = (area_sq-area_cir)\n",
    "    return abs(area)  \n",
    "print(sq_cir(5,5),\"unit\")"
   ]
  }
 ],
 "metadata": {
  "kernelspec": {
   "display_name": "Python 3",
   "language": "python",
   "name": "python3"
  },
  "language_info": {
   "codemirror_mode": {
    "name": "ipython",
    "version": 3
   },
   "file_extension": ".py",
   "mimetype": "text/x-python",
   "name": "python",
   "nbconvert_exporter": "python",
   "pygments_lexer": "ipython3",
   "version": "3.7.3"
  }
 },
 "nbformat": 4,
 "nbformat_minor": 2
}
